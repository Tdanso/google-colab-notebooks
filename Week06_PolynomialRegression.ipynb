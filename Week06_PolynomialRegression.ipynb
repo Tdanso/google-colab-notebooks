{
  "nbformat": 4,
  "nbformat_minor": 0,
  "metadata": {
    "colab": {
      "name": "Week06_PolynomialRegression",
      "provenance": [],
      "include_colab_link": true
    },
    "kernelspec": {
      "name": "python3",
      "display_name": "Python 3"
    }
  },
  "cells": [
    {
      "cell_type": "markdown",
      "metadata": {
        "id": "view-in-github",
        "colab_type": "text"
      },
      "source": [
        "<a href=\"https://colab.research.google.com/github/Tdanso/google-colab-notebooks/blob/main/Week06_PolynomialRegression.ipynb\" target=\"_parent\"><img src=\"https://colab.research.google.com/assets/colab-badge.svg\" alt=\"Open In Colab\"/></a>"
      ]
    },
    {
      "cell_type": "markdown",
      "metadata": {
        "id": "Ow-7FTa_5eHX"
      },
      "source": [
        "# Week 6\n",
        "# Polynomial Regression\n",
        "\n",
        "What if the data is actually more complex than a simple straight line? A simple way to make the model more flexible is to add powers of original features as new features, then train a linear model on this extended set of features. This technique is called **Polynomial Regression**.\n"
      ]
    },
    {
      "cell_type": "markdown",
      "metadata": {
        "id": "QHq-sx-75kam"
      },
      "source": [
        "## Polynomial Regression: Model Representation\n",
        "- The polynomial regression model assumes that the relationship between the input variable $X$ and the output variable $Y$ can be approximately described as\n",
        "$$Y \\approx f(X) = \\theta_0 + \\theta_1 X + \\theta_2 X^2 +\\cdots + \\theta_d X^d.$$\n",
        "- There is a single input variable $X$, which appears in each term expect for the constant term.\n",
        "- The degree $d$ is determined by the researcher. In pratice $d$ is rarely above 4."
      ]
    },
    {
      "cell_type": "markdown",
      "metadata": {
        "id": "lCw6JMDu5kc9"
      },
      "source": [
        "To illustrate the similarities and differences between linear regression and polynomial regression, let's consider the following dataset."
      ]
    },
    {
      "cell_type": "code",
      "metadata": {
        "id": "u3uf4kpX5kfe"
      },
      "source": [
        "import numpy as np\n",
        "import pandas as pd\n",
        "import matplotlib.pyplot as plt\n",
        "%matplotlib inline"
      ],
      "execution_count": null,
      "outputs": []
    },
    {
      "cell_type": "code",
      "metadata": {
        "id": "j6WOTVHg5kiK",
        "colab": {
          "base_uri": "https://localhost:8080/",
          "height": 282
        },
        "outputId": "9a556d31-701b-4b9f-b27e-1753337d54b7"
      },
      "source": [
        "# Generate a data set\n",
        "m = 100\n",
        "X = 6 * np.random.rand(m, 1) - 3\n",
        "y = 0.5 * X ** 2 + X + 2 + np.random.randn(m, 1)\n",
        "plt.plot(X, y, 'c.')"
      ],
      "execution_count": null,
      "outputs": [
        {
          "output_type": "execute_result",
          "data": {
            "text/plain": [
              "[<matplotlib.lines.Line2D at 0x7f810418d090>]"
            ]
          },
          "metadata": {
            "tags": []
          },
          "execution_count": 3
        },
        {
          "output_type": "display_data",
          "data": {
            "image/png": "[encoded data removed]",
            "text/plain": [
              "<Figure size 432x288 with 1 Axes>"
            ]
          },
          "metadata": {
            "tags": [],
            "needs_background": "light"
          }
        }
      ]
    },
    {
      "cell_type": "code",
      "metadata": {
        "id": "dPAB3k3z5kkt",
        "colab": {
          "base_uri": "https://localhost:8080/"
        },
        "outputId": "e486e55a-e247-4000-ca83-900cd91273cc"
      },
      "source": [
        "# Find the best linear fit of the data, and calculate the MSE.\n",
        "from sklearn.linear_model import LinearRegression\n",
        "from sklearn.metrics import mean_squared_error\n",
        "\n",
        "model_lr = LinearRegression()\n",
        "model_lr.fit(X, y)\n",
        "predictions_lr = model_lr.predict(X)\n",
        "MSE_lr = mean_squared_error(y, predictions_lr)\n",
        "print(\"MSE of the linear regression model:\", MSE_lr)\n",
        "\n",
        "# This MSE is calculated on the training set. It shouldn't be used to determine \n",
        "# the performance of this model on new data."
      ],
      "execution_count": null,
      "outputs": [
        {
          "output_type": "stream",
          "text": [
            "MSE of the linear regression model: 2.5330279015141652\n"
          ],
          "name": "stdout"
        }
      ]
    },
    {
      "cell_type": "markdown",
      "metadata": {
        "id": "hzT-7dPT5knf"
      },
      "source": [
        "## Polynomial Regression: Training Algorithm\n",
        "The polynomial regression can actually be treated as multilinear regression with feature transformation in the following way:\n",
        "1. Transform the original feature $X$ to a set of new features:\n",
        "    - $Z_1 = X$\n",
        "    - $Z_2 = X^2$\n",
        "    - $Z_3 = X^3$\n",
        "    - $\\cdots$\n",
        "    - $Z_d = X^d$\n",
        "2. Then the model can be expressed as a multilinear model on $Z$'s:\n",
        "$$Y \\approx \\theta_0 + \\theta_1Z_1 + \\theta_2Z_2 +\\cdots + \\theta_dZ_d$$.\n",
        "3. Train the model as multilinear regression (use the normal equation or gradient descent)\n",
        "    - To use the normal equation, the matrix $\\textbf{X}$ and $\\textbf{y}$ should be defined as\n",
        "    $$\\textbf{X} = \\begin{pmatrix}\n",
        "    1 & x^{(1)} & (x^{(1)})^2 & \\cdots & (x^{(1)})^d \\\\\n",
        "    1 & x^{(2)} & (x^{(2)})^2 & \\cdots & (x^{(2)})^d \\\\\n",
        "    \\vdots & \\vdots & \\vdots &\\ddots & \\vdots \\\\\n",
        "    1 & x^{(m)} & (x^{(m)})^2 & \\cdots & (x^{(m)})^d \\\\\n",
        "    \\end{pmatrix}, \\textbf{y} = \\begin{pmatrix}\n",
        "    y^{(1)}\\\\\n",
        "    y^{(2)}\\\\\n",
        "    \\vdots\\\\\n",
        "    y^{(m)}\n",
        "    \\end{pmatrix}$$"
      ]
    },
    {
      "cell_type": "code",
      "metadata": {
        "id": "65hm1LT75kqQ",
        "colab": {
          "base_uri": "https://localhost:8080/"
        },
        "outputId": "eacb6a95-5104-4031-d0ab-72ab94c5f1bc"
      },
      "source": [
        "# Let's consider a polynomial model of degree 2.\n",
        "# First, create data matrix X and y.\n",
        "from sklearn.preprocessing import PolynomialFeatures\n",
        "poly_features = PolynomialFeatures(degree=2, include_bias=False)\n",
        "# poly_features.fit(X)\n",
        "# X_poly = poly_features.transform(X)\n",
        "\n",
        "X_poly = poly_features.fit_transform(X) # X_poly contains data for Z1 and Z2\n",
        "\n",
        "print(X_poly[:5])"
      ],
      "execution_count": null,
      "outputs": [
        {
          "output_type": "stream",
          "text": [
            "[[ 1.69955057  2.88847213]\n",
            " [ 0.95264397  0.90753054]\n",
            " [-0.35376362  0.1251487 ]\n",
            " [-2.13653746  4.5647923 ]\n",
            " [ 0.31168411  0.09714698]]\n"
          ],
          "name": "stdout"
        }
      ]
    },
    {
      "cell_type": "code",
      "metadata": {
        "id": "SnfKodcb6vxN",
        "colab": {
          "base_uri": "https://localhost:8080/"
        },
        "outputId": "d675f07e-5a6d-4e83-8b59-770e7d02ffe3"
      },
      "source": [
        "# Use sci-kit learn to train the polynomial model.\n",
        "from sklearn.linear_model import LinearRegression\n",
        "model_pr = LinearRegression()\n",
        "model_pr.fit(X_poly, y)\n",
        "# What we actually solved is a linear model on Z1 and Z2\n",
        "# We know that it is equivalent to a degree-2 polynomial model on X.\n",
        "print(model_pr.coef_, model_pr.intercept_)"
      ],
      "execution_count": null,
      "outputs": [
        {
          "output_type": "stream",
          "text": [
            "[[0.94849451 0.47460992]] [1.96784537]\n"
          ],
          "name": "stdout"
        }
      ]
    },
    {
      "cell_type": "code",
      "metadata": {
        "id": "jsShT3RZ69eD",
        "colab": {
          "base_uri": "https://localhost:8080/"
        },
        "outputId": "2145d36c-ef6a-4236-e827-5e32f544a5be"
      },
      "source": [
        "# Calculate the MSE of the degree-2 polynomial regression\n",
        "predictions_pr = model_pr.predict(X_poly)\n",
        "MSE_pr = mean_squared_error(y, predictions_pr)\n",
        "print(\"MSE for degree-2 polynomial regression:\", MSE_pr)\n"
      ],
      "execution_count": null,
      "outputs": [
        {
          "output_type": "stream",
          "text": [
            "MSE for degree-2 polynomial regression: 1.010736702347847\n"
          ],
          "name": "stdout"
        }
      ]
    },
    {
      "cell_type": "code",
      "metadata": {
        "id": "DlU0BTcQ6-I8",
        "colab": {
          "base_uri": "https://localhost:8080/",
          "height": 282
        },
        "outputId": "daf95b98-1cee-43b6-f1ed-639d23556af9"
      },
      "source": [
        "# Visualize the regression curve\n",
        "plt.plot(X, y, 'c.') # Plot points from training data\n",
        "x_coordinates = np.linspace(-3, 3, 100) # create a list of x in interval [-3, 3]\n",
        "# Use the model to predict the corresponding y value\n",
        "x_coordinates_poly = poly_features.transform(x_coordinates.reshape([-1, 1]))\n",
        "y_coordinates = model_pr.predict(x_coordinates_poly)\n",
        "# Plot the points\n",
        "plt.plot(x_coordinates, y_coordinates, 'm-') "
      ],
      "execution_count": null,
      "outputs": [
        {
          "output_type": "execute_result",
          "data": {
            "text/plain": [
              "[<matplotlib.lines.Line2D at 0x7f1346924950>]"
            ]
          },
          "metadata": {
            "tags": []
          },
          "execution_count": 18
        },
        {
          "output_type": "display_data",
          "data": {
            "image/png": "[encoded data removed]",
            "text/plain": [
              "<Figure size 432x288 with 1 Axes>"
            ]
          },
          "metadata": {
            "tags": [],
            "needs_background": "light"
          }
        }
      ]
    },
    {
      "cell_type": "code",
      "metadata": {
        "id": "0R0TGaWr5ksx"
      },
      "source": [
        "# Apply the normal equation to find the degree 2 polynomial fit of X and y\n",
        "\n"
      ],
      "execution_count": null,
      "outputs": []
    },
    {
      "cell_type": "markdown",
      "metadata": {
        "id": "bd2tVzlt5kvi"
      },
      "source": [
        "## Polynomial Regression: Overfitting\n",
        "Polynomial regression with greater $d$ tends to fit the training data better. However, the performance may not carry to new data.\n",
        "<img src=\"https://docs.aws.amazon.com/machine-learning/latest/dg/images/mlconcepts_image5.png\" width=\"600\">\n",
        "<img src=\"https://miro.medium.com/fit/c/1838/551/0*Wup-0b5KI6-8cJB4.jpg\" width=\"600\">"
      ]
    },
    {
      "cell_type": "code",
      "metadata": {
        "id": "E4fIuAwm5kyj",
        "colab": {
          "base_uri": "https://localhost:8080/"
        },
        "outputId": "8c454c63-58cc-4d79-bf67-38aa359d0781"
      },
      "source": [
        "# Train a degree 20 polynomial to fit X and y\n",
        "poly_features = PolynomialFeatures(degree=20, include_bias=False)\n",
        "# poly_features.fit(X)\n",
        "# X_poly = poly_features.transform(X)\n",
        "X_poly = poly_features.fit_transform(X)\n",
        "\n",
        "model_pr = LinearRegression()\n",
        "model_pr.fit(X_poly, y)\n",
        "predictions = model_pr.predict(X_poly)\n",
        "mse = mean_squared_error(y, predictions)\n",
        "print(\"MSE:\", mse)"
      ],
      "execution_count": null,
      "outputs": [
        {
          "output_type": "stream",
          "text": [
            "MSE: 0.8783948059493951\n"
          ],
          "name": "stdout"
        }
      ]
    },
    {
      "cell_type": "code",
      "metadata": {
        "id": "jf5rmw_S5k1Z",
        "colab": {
          "base_uri": "https://localhost:8080/",
          "height": 282
        },
        "outputId": "8c37a478-e137-4d7f-8f05-79d9f49c4915"
      },
      "source": [
        "plt.plot(X, y, 'c.')\n",
        "x_coordinates = np.linspace(-3, 3.05, 100)\n",
        "x_coordinates_poly = poly_features.transform(x_coordinates.reshape([-1, 1]))\n",
        "y_coordinates = model_pr.predict(x_coordinates_poly)\n",
        "plt.plot(x_coordinates, y_coordinates, 'm-')\n",
        "plt.ylim([-1, 11])\n",
        "# plt.ylim(0, 10)"
      ],
      "execution_count": null,
      "outputs": [
        {
          "output_type": "execute_result",
          "data": {
            "text/plain": [
              "(-1.0, 11.0)"
            ]
          },
          "metadata": {
            "tags": []
          },
          "execution_count": 8
        },
        {
          "output_type": "display_data",
          "data": {
            "image/png": "[encoded data removed]",
            "text/plain": [
              "<Figure size 432x288 with 1 Axes>"
            ]
          },
          "metadata": {
            "tags": [],
            "needs_background": "light"
          }
        }
      ]
    },
    {
      "cell_type": "markdown",
      "metadata": {
        "id": "GrnW5EPO5k4T"
      },
      "source": [
        "## Identify Overfitting:\n",
        "1. Train-test split\n",
        "2. Learning curve\n",
        "3. Cross validation\n",
        "4. Visualization "
      ]
    },
    {
      "cell_type": "code",
      "metadata": {
        "id": "royLvU255k69"
      },
      "source": [
        ""
      ],
      "execution_count": null,
      "outputs": []
    },
    {
      "cell_type": "code",
      "metadata": {
        "id": "8WO3neTi5k9p"
      },
      "source": [
        ""
      ],
      "execution_count": null,
      "outputs": []
    },
    {
      "cell_type": "code",
      "metadata": {
        "id": "q1iV-Z2V5lAp"
      },
      "source": [
        ""
      ],
      "execution_count": null,
      "outputs": []
    },
    {
      "cell_type": "code",
      "metadata": {
        "id": "xVdqeEAw5lDU"
      },
      "source": [
        ""
      ],
      "execution_count": null,
      "outputs": []
    },
    {
      "cell_type": "code",
      "metadata": {
        "id": "SzX1eDSs5lF7"
      },
      "source": [
        ""
      ],
      "execution_count": null,
      "outputs": []
    },
    {
      "cell_type": "code",
      "metadata": {
        "id": "JMpdegsY5lIv"
      },
      "source": [
        ""
      ],
      "execution_count": null,
      "outputs": []
    },
    {
      "cell_type": "code",
      "metadata": {
        "id": "3wyNjhsm5lLO"
      },
      "source": [
        ""
      ],
      "execution_count": null,
      "outputs": []
    },
    {
      "cell_type": "code",
      "metadata": {
        "id": "dNJ96HlJ5lOH"
      },
      "source": [
        ""
      ],
      "execution_count": null,
      "outputs": []
    }
  ]
}